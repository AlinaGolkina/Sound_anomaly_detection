{
 "cells": [
  {
   "cell_type": "code",
   "execution_count": 1,
   "metadata": {},
   "outputs": [],
   "source": [
    "import warnings\n",
    "\n",
    "import matplotlib.pyplot as plt\n",
    "import numpy as np\n",
    "import pandas as pd\n",
    "import scipy\n",
    "import yaml\n",
    "from sklearn import metrics\n",
    "from sklearn.ensemble import RandomForestClassifier\n",
    "from tqdm import tqdm\n",
    "\n",
    "\n",
    "sys.path.append(os.path.abspath(os.path.join(os.getcwd(), os.path.pardir)))\n",
    "import anomaly_detection.preprocess as preproc\n",
    "from anomaly_detection.datasets import MimiiDue, ToyAdmos\n",
    "from anomaly_detection.models.conv1d_AE import Conv1dAE\n",
    "from anomaly_detection.models.STgram_MFN import STgramMFN, ArcMarginProduct\n",
    "\n",
    "\n",
    "warnings.filterwarnings(\"ignore\")"
   ]
  },
  {
   "cell_type": "code",
   "execution_count": 2,
   "metadata": {},
   "outputs": [],
   "source": [
    "import torch\n",
    "from torch import nn\n",
    "from torch.autograd import Variable\n",
    "from torch.optim import Adam\n",
    "from torch.utils.data import DataLoader, Dataset, TensorDataset"
   ]
  },
  {
   "cell_type": "code",
   "execution_count": 3,
   "metadata": {},
   "outputs": [],
   "source": [
    "# train data dir\n",
    "target_dir = (\n",
    "    r\"C:\\Users\\alina\\OneDrive\\Документы\\Диплом\\datasets\\MIMII_DUE\\dev_data\\gearbox\"\n",
    ")\n",
    "section_name = \"section_00\"\n",
    "dir_name_train = r\"\\train\"\n",
    "# target_test data dir\n",
    "dir_name_test = r\"\\target_test\""
   ]
  },
  {
   "cell_type": "code",
   "execution_count": 4,
   "metadata": {},
   "outputs": [
    {
     "name": "stderr",
     "output_type": "stream",
     "text": [
      "100%|██████████| 1004/1004 [00:38<00:00, 26.34it/s]\n",
      "100%|██████████| 204/204 [00:07<00:00, 26.79it/s]\n"
     ]
    }
   ],
   "source": [
    "dataset_train_mimii_ts = MimiiDue(\n",
    "    target_dir, section_name, dir_name_train, extraction_type=\"amplitude\"\n",
    ")\n",
    "dataset_test_mimii_ts = MimiiDue(\n",
    "    target_dir, section_name, dir_name_test, extraction_type=\"amplitude\"\n",
    ")"
   ]
  },
  {
   "cell_type": "code",
   "execution_count": 5,
   "metadata": {},
   "outputs": [
    {
     "data": {
      "text/plain": [
       "((1004, 160000), (204, 160000), (1004,), (204,))"
      ]
     },
     "execution_count": 5,
     "metadata": {},
     "output_type": "execute_result"
    }
   ],
   "source": [
    "# train and test from MIMII_DUE\n",
    "X_train_mimii_ts, y_train_mimii_ts = (\n",
    "    dataset_train_mimii_ts.data,\n",
    "    dataset_train_mimii_ts.labels,\n",
    ")\n",
    "X_test_mimii_ts, y_test_mimii_ts = (\n",
    "    dataset_test_mimii_ts.data,\n",
    "    dataset_test_mimii_ts.labels,\n",
    ")\n",
    "X_train_mimii_ts.shape, X_test_mimii_ts.shape, y_train_mimii_ts.shape, y_test_mimii_ts.shape"
   ]
  },
  {
   "cell_type": "code",
   "execution_count": 6,
   "metadata": {},
   "outputs": [
    {
     "name": "stderr",
     "output_type": "stream",
     "text": [
      "100%|██████████| 1004/1004 [00:44<00:00, 22.81it/s]\n",
      "100%|██████████| 204/204 [00:08<00:00, 23.09it/s]\n"
     ]
    }
   ],
   "source": [
    "dataset_train_mimii_mel = MimiiDue(\n",
    "    target_dir, section_name, dir_name_train, extraction_type=\"melspectrogram\"\n",
    ")\n",
    "dataset_test_mimii_mel = MimiiDue(\n",
    "    target_dir, section_name, dir_name_test, extraction_type=\"melspectrogram\"\n",
    ")"
   ]
  },
  {
   "cell_type": "code",
   "execution_count": 7,
   "metadata": {},
   "outputs": [
    {
     "data": {
      "text/plain": [
       "((1004, 1, 128, 313), (204, 1, 128, 313), (1004,), (204,))"
      ]
     },
     "execution_count": 7,
     "metadata": {},
     "output_type": "execute_result"
    }
   ],
   "source": [
    "# train and test from MIMII_DUE\n",
    "X_train_mimii_mel, y_train_mimii_mel = (\n",
    "    dataset_train_mimii_mel.data,\n",
    "    dataset_train_mimii_mel.labels,\n",
    ")\n",
    "X_test_mimii_mel, y_test_mimii_mel = (\n",
    "    dataset_test_mimii_mel.data,\n",
    "    dataset_test_mimii_mel.labels,\n",
    ")\n",
    "X_train_mimii_mel.shape, X_test_mimii_mel.shape, y_train_mimii_mel.shape, y_test_mimii_mel.shape"
   ]
  },
  {
   "cell_type": "code",
   "execution_count": null,
   "metadata": {},
   "outputs": [],
   "source": []
  }
 ],
 "metadata": {
  "kernelspec": {
   "display_name": "Python 3.9.12 ('diploma')",
   "language": "python",
   "name": "python3"
  },
  "language_info": {
   "codemirror_mode": {
    "name": "ipython",
    "version": 3
   },
   "file_extension": ".py",
   "mimetype": "text/x-python",
   "name": "python",
   "nbconvert_exporter": "python",
   "pygments_lexer": "ipython3",
   "version": "3.9.12"
  },
  "orig_nbformat": 4,
  "vscode": {
   "interpreter": {
    "hash": "ef6dcc2d7d4778f9111ae93647e5e977c9fe856fac0edf74c4de5ffddea4f9bb"
   }
  }
 },
 "nbformat": 4,
 "nbformat_minor": 2
}
