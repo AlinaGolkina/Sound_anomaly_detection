{
 "cells": [
  {
   "cell_type": "markdown",
   "id": "54d8df42",
   "metadata": {},
   "source": [
    "# PyOD models comparison (LOF, KNN, iForest, GMM, OCSVM)"
   ]
  },
  {
   "cell_type": "code",
   "execution_count": 1,
   "id": "ff55f063",
   "metadata": {
    "ExecuteTime": {
     "end_time": "2022-10-05T22:19:35.245003Z",
     "start_time": "2022-10-05T22:19:23.938026Z"
    }
   },
   "outputs": [],
   "source": [
    "import glob\n",
    "import os\n",
    "import pathlib\n",
    "import pickle\n",
    "import sys\n",
    "import warnings\n",
    "\n",
    "import IPython.display as ipd\n",
    "import ipywidgets as widgets\n",
    "import librosa\n",
    "import librosa.core\n",
    "import librosa.display\n",
    "import librosa.feature\n",
    "import matplotlib.pyplot as plt\n",
    "import numpy as np\n",
    "import optuna\n",
    "import pandas as pd\n",
    "import scipy\n",
    "import yaml\n",
    "from dataset import Mimii_due, Toyadmos\n",
    "from ipywidgets import interact, interact_manual\n",
    "from keras.layers import Dense, Input\n",
    "from keras.models import Model\n",
    "from pyod.models.gmm import GMM\n",
    "from pyod.models.iforest import IForest\n",
    "from pyod.models.knn import KNN\n",
    "from pyod.models.lof import LOF\n",
    "from pyod.models.ocsvm import OCSVM\n",
    "from pyod.utils.data import evaluate_print, generate_data\n",
    "from pyod.utils.example import visualize\n",
    "from sklearn import metrics\n",
    "from sklearn.ensemble import RandomForestClassifier\n",
    "\n",
    "# from import\n",
    "from tqdm import tqdm\n",
    "\n",
    "import preprocess as preproc\n",
    "\n",
    "\n",
    "########################################################################\n",
    "\n",
    "\n",
    "########################################################################\n",
    "# import additional python-library\n",
    "########################################################################\n",
    "\n",
    "\n",
    "warnings.filterwarnings(\"ignore\")"
   ]
  },
  {
   "cell_type": "code",
   "execution_count": 2,
   "id": "81af9cc2",
   "metadata": {
    "ExecuteTime": {
     "end_time": "2022-10-05T22:19:35.260651Z",
     "start_time": "2022-10-05T22:19:35.246639Z"
    }
   },
   "outputs": [],
   "source": [
    "import torch\n",
    "from torch import nn\n",
    "from torch.autograd import Variable\n",
    "from torch.optim import Adam\n",
    "from torch.utils.data import DataLoader, Dataset, TensorDataset"
   ]
  },
  {
   "cell_type": "markdown",
   "id": "97926bdf",
   "metadata": {},
   "source": [
    "## 1D Feature representation - amplitude values"
   ]
  },
  {
   "cell_type": "markdown",
   "id": "c72c993c",
   "metadata": {},
   "source": [
    "### Dataset MIMII_DUE"
   ]
  },
  {
   "cell_type": "code",
   "execution_count": 3,
   "id": "13781ace",
   "metadata": {
    "ExecuteTime": {
     "end_time": "2022-10-05T22:19:35.276629Z",
     "start_time": "2022-10-05T22:19:35.261652Z"
    }
   },
   "outputs": [],
   "source": [
    "# train data dir\n",
    "target_dir = r\"datasets\\MIMII_DUE\\dev_data\\gearbox\"\n",
    "section_name = \"section_00\"\n",
    "dir_name_train = r\"\\train\"\n",
    "# target_test data dir\n",
    "dir_name_test = r\"\\target_test\""
   ]
  },
  {
   "cell_type": "code",
   "execution_count": 4,
   "id": "da2f1310",
   "metadata": {
    "ExecuteTime": {
     "end_time": "2022-10-05T22:20:16.571158Z",
     "start_time": "2022-10-05T22:19:35.278634Z"
    }
   },
   "outputs": [
    {
     "name": "stderr",
     "output_type": "stream",
     "text": [
      "100%|██████████████████████████████████████████████████████████████████████████████| 1004/1004 [00:34<00:00, 29.33it/s]\n",
      "100%|████████████████████████████████████████████████████████████████████████████████| 204/204 [00:06<00:00, 29.26it/s]\n"
     ]
    }
   ],
   "source": [
    "dataset_train_mimii_ts = Mimii_due(\n",
    "    target_dir, section_name, dir_name_train, extraction_type=\"amplitude\"\n",
    ")\n",
    "dataset_test_mimii_ts = Mimii_due(\n",
    "    target_dir, section_name, dir_name_test, extraction_type=\"amplitude\"\n",
    ")"
   ]
  },
  {
   "cell_type": "code",
   "execution_count": 5,
   "id": "ecd3b8d8",
   "metadata": {
    "ExecuteTime": {
     "end_time": "2022-10-05T22:20:16.587166Z",
     "start_time": "2022-10-05T22:20:16.572159Z"
    }
   },
   "outputs": [
    {
     "data": {
      "text/plain": [
       "((1004, 160000), (204, 160000), (1004,), (204,))"
      ]
     },
     "execution_count": 5,
     "metadata": {},
     "output_type": "execute_result"
    }
   ],
   "source": [
    "X_train_mimii_ts, y_train_mimii_ts = (\n",
    "    dataset_train_mimii_ts.data,\n",
    "    dataset_train_mimii_ts.labels,\n",
    ")\n",
    "X_test_mimii_ts, y_test_mimii_ts = (\n",
    "    dataset_test_mimii_ts.data,\n",
    "    dataset_test_mimii_ts.labels,\n",
    ")\n",
    "X_train_mimii_ts.shape, X_test_mimii_ts.shape, y_train_mimii_ts.shape, y_test_mimii_ts.shape"
   ]
  },
  {
   "cell_type": "code",
   "execution_count": 6,
   "id": "fe77b322",
   "metadata": {
    "ExecuteTime": {
     "end_time": "2022-10-05T22:20:16.603169Z",
     "start_time": "2022-10-05T22:20:16.588165Z"
    }
   },
   "outputs": [
    {
     "name": "stdout",
     "output_type": "stream",
     "text": [
      "Mimii_due_anomaly ratio = 0.53\n"
     ]
    }
   ],
   "source": [
    "# Anomaly data ratio\n",
    "contamination_mimii = np.round(y_test_mimii_ts.sum() / y_test_mimii_ts.shape, 2)\n",
    "print(f\"Mimii_due_anomaly ratio = {contamination_mimii[0]}\")\n",
    "contamination_mimii = 0.4"
   ]
  },
  {
   "cell_type": "markdown",
   "id": "3d0f98e2",
   "metadata": {},
   "source": [
    "### Dataset ToyAdmos2"
   ]
  },
  {
   "cell_type": "code",
   "execution_count": 7,
   "id": "895a2504",
   "metadata": {
    "ExecuteTime": {
     "end_time": "2022-10-05T22:20:41.564498Z",
     "start_time": "2022-10-05T22:20:41.562498Z"
    }
   },
   "outputs": [],
   "source": [
    "# data dir\n",
    "target_dir_toyadm = r\"datasets\\ToyAdmos2\"\n",
    "dir_name_toyadm_anomaly = r\"\\toyad2_car_A_anomaly\"\n",
    "dir_name_toyadm_normal = r\"\\toyad2_car_A1_normal\""
   ]
  },
  {
   "cell_type": "code",
   "execution_count": 8,
   "id": "71d1e7c9",
   "metadata": {
    "ExecuteTime": {
     "end_time": "2022-10-05T22:32:14.295814Z",
     "start_time": "2022-10-05T22:20:41.905337Z"
    }
   },
   "outputs": [
    {
     "name": "stderr",
     "output_type": "stream",
     "text": [
      "100%|██████████████████████████████████████████████████████████████████████████████| 3545/3545 [11:32<00:00,  5.12it/s]\n"
     ]
    }
   ],
   "source": [
    "dataset_toy = Toyadmos(\n",
    "    target_dir_toyadm,\n",
    "    dir_name_toyadm_normal,\n",
    "    dir_name_toyadm_anomaly,\n",
    "    extraction_type=\"amplitude\",\n",
    ")"
   ]
  },
  {
   "cell_type": "code",
   "execution_count": 9,
   "id": "1c343664",
   "metadata": {
    "ExecuteTime": {
     "end_time": "2022-10-05T22:32:39.442474Z",
     "start_time": "2022-10-05T22:32:14.297815Z"
    }
   },
   "outputs": [],
   "source": [
    "# Train - test - val stratified split\n",
    "(\n",
    "    X_train_toy_ts,\n",
    "    X_test_toy_ts,\n",
    "    X_val_toy_ts,\n",
    "    y_train_toy_ts,\n",
    "    y_test_toy_ts,\n",
    "    y_val_toy_ts,\n",
    ") = preproc.mix_data([dataset_toy.data], [dataset_toy.labels])"
   ]
  },
  {
   "cell_type": "code",
   "execution_count": 10,
   "id": "7443944f",
   "metadata": {
    "ExecuteTime": {
     "end_time": "2022-10-05T22:32:39.512328Z",
     "start_time": "2022-10-05T22:32:39.458529Z"
    }
   },
   "outputs": [
    {
     "data": {
      "text/plain": [
       "((2871, 192000), (319, 192000), (355, 192000), (2871,), (319,), (355,))"
      ]
     },
     "execution_count": 10,
     "metadata": {},
     "output_type": "execute_result"
    }
   ],
   "source": [
    "X_train_toy_ts.shape, X_test_toy_ts.shape, X_val_toy_ts.shape, y_train_toy_ts.shape, y_test_toy_ts.shape, y_val_toy_ts.shape"
   ]
  },
  {
   "cell_type": "code",
   "execution_count": 11,
   "id": "5b189845",
   "metadata": {
    "ExecuteTime": {
     "end_time": "2022-10-05T22:32:39.542551Z",
     "start_time": "2022-10-05T22:32:39.512328Z"
    }
   },
   "outputs": [
    {
     "name": "stdout",
     "output_type": "stream",
     "text": [
      "ToyAdmos anomaly ratio = 0.23\n"
     ]
    }
   ],
   "source": [
    "# Anomaly data ratio\n",
    "contamination_toy = np.round(y_test_toy_ts.sum() / y_test_toy_ts.shape, 2)\n",
    "print(f\"ToyAdmos anomaly ratio = {contamination_toy[0]}\")"
   ]
  },
  {
   "cell_type": "code",
   "execution_count": 12,
   "id": "dcea6ea1",
   "metadata": {
    "ExecuteTime": {
     "end_time": "2022-10-05T22:32:39.574559Z",
     "start_time": "2022-10-05T22:32:39.544552Z"
    }
   },
   "outputs": [],
   "source": [
    "def anomaly_detection(model_name, X_train, X_test, y_train, y_test):\n",
    "\n",
    "    clf = models[model_name]\n",
    "    clf.fit(X_train)\n",
    "\n",
    "    # get the prediction labels and outlier scores of the training data\n",
    "    y_train_pred = clf.labels_  # binary labels (0: inliers, 1: outliers)\n",
    "    y_train_scores = clf.decision_scores_  # raw outlier scores\n",
    "\n",
    "    # get the prediction on the test data\n",
    "    y_test_pred = clf.predict(X_test)  # outlier labels (0 or 1)\n",
    "    y_test_scores = clf.decision_function(X_test)  # outlier scores\n",
    "\n",
    "    # metrics\n",
    "    accuracy = metrics.accuracy_score(y_test, y_test_pred)\n",
    "    precision = metrics.precision_score(y_test, y_test_pred)\n",
    "    recall = metrics.recall_score(y_test, y_test_pred)\n",
    "    f1_score = metrics.f1_score(y_test, y_test_pred)\n",
    "    scores = pd.DataFrame(\n",
    "        [\n",
    "            {\n",
    "                \"Dataset\": None,\n",
    "                \"Extraction_type\": None,\n",
    "                \"Model_name\": model_name,\n",
    "                \"Accuracy\": accuracy,\n",
    "                \"Precision\": precision,\n",
    "                \"Recall\": recall,\n",
    "                \"F1_score\": f1_score,\n",
    "            }\n",
    "        ]\n",
    "    )\n",
    "    # evaluate and print the results\n",
    "    report = metrics.classification_report(y_test, y_test_pred)\n",
    "    # print(f'On Test Data:')\n",
    "    evaluate_print(model_name, y_test, y_test_scores)\n",
    "    # print(f'\\n{report} \\n')\n",
    "\n",
    "    return scores"
   ]
  },
  {
   "cell_type": "code",
   "execution_count": 13,
   "id": "de15b4dd",
   "metadata": {
    "ExecuteTime": {
     "end_time": "2022-10-05T22:32:39.606566Z",
     "start_time": "2022-10-05T22:32:39.577560Z"
    }
   },
   "outputs": [],
   "source": [
    "# Key algorithms, PyOD implementation\n",
    "def PyOD_classification_report(\n",
    "    X_train,\n",
    "    X_test,\n",
    "    y_train,\n",
    "    y_test,\n",
    "    dataset=None,\n",
    "    extraction_type=\"aggregate_MFCC\",\n",
    "    contamination=0.1,\n",
    "):\n",
    "    \"\"\"\n",
    "    dataset : str\n",
    "        'MIMII_DUE'\n",
    "        'ToyAdm'\n",
    "    extraction_type : str\n",
    "        'aggregate_MFCC' - by default\n",
    "        'amplitude' - original signal, amplitude values timeseries\n",
    "\n",
    "    \"\"\"\n",
    "    models = {\n",
    "        \"IForest\": IForest(\n",
    "            behaviour=\"old\",\n",
    "            contamination=contamination,\n",
    "            max_features=max(1, int(X_train.shape[1] // 2)),\n",
    "            max_samples=\"auto\",\n",
    "            n_estimators=10,\n",
    "            n_jobs=-1,\n",
    "            random_state=42,\n",
    "            verbose=0,\n",
    "        ),\n",
    "        \"LOF\": LOF(contamination=contamination),\n",
    "        \"KNN\": KNN(contamination=contamination),\n",
    "        \"GMM\": GMM(contamination=contamination),\n",
    "        \"OCSVM\": OCSVM(contamination=0.1),\n",
    "    }\n",
    "\n",
    "    pyod_models = pd.DataFrame(\n",
    "        columns={\n",
    "            \"Dataset\",\n",
    "            \"Extraction_type\",\n",
    "            \"Model_name\",\n",
    "            \"Accuracy\",\n",
    "            \"Precision\",\n",
    "            \"Recall\",\n",
    "            \"F1_score\",\n",
    "        }\n",
    "    )\n",
    "    for model_name, model in models.items():\n",
    "        if extraction_type == \"amplitude\" and model_name in [\"KNN\", \"GMM\"]:\n",
    "            continue\n",
    "\n",
    "        clf = models[model_name]\n",
    "        clf.fit(X_train)\n",
    "\n",
    "        # get the prediction on the test data\n",
    "        y_test_pred = clf.predict(X_test)  # outlier labels (0 or 1)\n",
    "        y_test_scores = clf.decision_function(X_test)  # outlier scores\n",
    "\n",
    "        # metrics\n",
    "        accuracy = metrics.accuracy_score(y_test, y_test_pred)\n",
    "        precision = metrics.precision_score(y_test, y_test_pred)\n",
    "        recall = metrics.recall_score(y_test, y_test_pred)\n",
    "        f1_score = metrics.f1_score(y_test, y_test_pred)\n",
    "        scores = pd.DataFrame(\n",
    "            [\n",
    "                {\n",
    "                    \"Dataset\": None,\n",
    "                    \"Extraction_type\": None,\n",
    "                    \"Model_name\": model_name,\n",
    "                    \"Accuracy\": accuracy,\n",
    "                    \"Precision\": precision,\n",
    "                    \"Recall\": recall,\n",
    "                    \"F1_score\": f1_score,\n",
    "                }\n",
    "            ]\n",
    "        )\n",
    "        pyod_models = pyod_models.append(scores)\n",
    "        pyod_models[\"Dataset\"] = dataset\n",
    "        pyod_models[\"Extraction_type\"] = extraction_type\n",
    "\n",
    "    return pyod_models"
   ]
  },
  {
   "cell_type": "code",
   "execution_count": 14,
   "id": "ec196826",
   "metadata": {
    "ExecuteTime": {
     "end_time": "2022-10-05T22:37:41.117321Z",
     "start_time": "2022-10-05T22:32:39.607565Z"
    }
   },
   "outputs": [
    {
     "data": {
      "text/html": [
       "<div>\n",
       "<style scoped>\n",
       "    .dataframe tbody tr th:only-of-type {\n",
       "        vertical-align: middle;\n",
       "    }\n",
       "\n",
       "    .dataframe tbody tr th {\n",
       "        vertical-align: top;\n",
       "    }\n",
       "\n",
       "    .dataframe thead th {\n",
       "        text-align: right;\n",
       "    }\n",
       "</style>\n",
       "<table border=\"1\" class=\"dataframe\">\n",
       "  <thead>\n",
       "    <tr style=\"text-align: right;\">\n",
       "      <th></th>\n",
       "      <th>Precision</th>\n",
       "      <th>F1_score</th>\n",
       "      <th>Model_name</th>\n",
       "      <th>Accuracy</th>\n",
       "      <th>Dataset</th>\n",
       "      <th>Recall</th>\n",
       "      <th>Extraction_type</th>\n",
       "    </tr>\n",
       "  </thead>\n",
       "  <tbody>\n",
       "    <tr>\n",
       "      <th>0</th>\n",
       "      <td>0.564356</td>\n",
       "      <td>0.545455</td>\n",
       "      <td>IForest</td>\n",
       "      <td>0.534314</td>\n",
       "      <td>MIMII_DUE</td>\n",
       "      <td>0.527778</td>\n",
       "      <td>amplitude</td>\n",
       "    </tr>\n",
       "    <tr>\n",
       "      <th>0</th>\n",
       "      <td>0.608696</td>\n",
       "      <td>0.682927</td>\n",
       "      <td>LOF</td>\n",
       "      <td>0.617647</td>\n",
       "      <td>MIMII_DUE</td>\n",
       "      <td>0.777778</td>\n",
       "      <td>amplitude</td>\n",
       "    </tr>\n",
       "    <tr>\n",
       "      <th>0</th>\n",
       "      <td>0.583333</td>\n",
       "      <td>0.666667</td>\n",
       "      <td>OCSVM</td>\n",
       "      <td>0.588235</td>\n",
       "      <td>MIMII_DUE</td>\n",
       "      <td>0.777778</td>\n",
       "      <td>amplitude</td>\n",
       "    </tr>\n",
       "  </tbody>\n",
       "</table>\n",
       "</div>"
      ],
      "text/plain": [
       "   Precision  F1_score Model_name  Accuracy    Dataset    Recall  \\\n",
       "0   0.564356  0.545455    IForest  0.534314  MIMII_DUE  0.527778   \n",
       "0   0.608696  0.682927        LOF  0.617647  MIMII_DUE  0.777778   \n",
       "0   0.583333  0.666667      OCSVM  0.588235  MIMII_DUE  0.777778   \n",
       "\n",
       "  Extraction_type  \n",
       "0       amplitude  \n",
       "0       amplitude  \n",
       "0       amplitude  "
      ]
     },
     "execution_count": 14,
     "metadata": {},
     "output_type": "execute_result"
    }
   ],
   "source": [
    "# MIMII_DUE_ts\n",
    "pyod_mimii_ts = PyOD_classification_report(\n",
    "    X_train_mimii_ts,\n",
    "    X_test_mimii_ts,\n",
    "    y_train_mimii_ts,\n",
    "    y_test_mimii_ts,\n",
    "    dataset=\"MIMII_DUE\",\n",
    "    extraction_type=\"amplitude\",\n",
    "    contamination=contamination_mimii,\n",
    ")\n",
    "pyod_mimii_ts"
   ]
  },
  {
   "cell_type": "code",
   "execution_count": 15,
   "id": "969d4e91",
   "metadata": {
    "ExecuteTime": {
     "end_time": "2022-10-05T23:19:00.388662Z",
     "start_time": "2022-10-05T22:37:41.124708Z"
    }
   },
   "outputs": [
    {
     "data": {
      "text/html": [
       "<div>\n",
       "<style scoped>\n",
       "    .dataframe tbody tr th:only-of-type {\n",
       "        vertical-align: middle;\n",
       "    }\n",
       "\n",
       "    .dataframe tbody tr th {\n",
       "        vertical-align: top;\n",
       "    }\n",
       "\n",
       "    .dataframe thead th {\n",
       "        text-align: right;\n",
       "    }\n",
       "</style>\n",
       "<table border=\"1\" class=\"dataframe\">\n",
       "  <thead>\n",
       "    <tr style=\"text-align: right;\">\n",
       "      <th></th>\n",
       "      <th>Precision</th>\n",
       "      <th>F1_score</th>\n",
       "      <th>Model_name</th>\n",
       "      <th>Accuracy</th>\n",
       "      <th>Dataset</th>\n",
       "      <th>Recall</th>\n",
       "      <th>Extraction_type</th>\n",
       "    </tr>\n",
       "  </thead>\n",
       "  <tbody>\n",
       "    <tr>\n",
       "      <th>0</th>\n",
       "      <td>0.275362</td>\n",
       "      <td>0.269504</td>\n",
       "      <td>IForest</td>\n",
       "      <td>0.677116</td>\n",
       "      <td>ToyAdm</td>\n",
       "      <td>0.263889</td>\n",
       "      <td>amplitude</td>\n",
       "    </tr>\n",
       "    <tr>\n",
       "      <th>0</th>\n",
       "      <td>0.275362</td>\n",
       "      <td>0.269504</td>\n",
       "      <td>LOF</td>\n",
       "      <td>0.677116</td>\n",
       "      <td>ToyAdm</td>\n",
       "      <td>0.263889</td>\n",
       "      <td>amplitude</td>\n",
       "    </tr>\n",
       "    <tr>\n",
       "      <th>0</th>\n",
       "      <td>0.655172</td>\n",
       "      <td>0.376238</td>\n",
       "      <td>OCSVM</td>\n",
       "      <td>0.802508</td>\n",
       "      <td>ToyAdm</td>\n",
       "      <td>0.263889</td>\n",
       "      <td>amplitude</td>\n",
       "    </tr>\n",
       "  </tbody>\n",
       "</table>\n",
       "</div>"
      ],
      "text/plain": [
       "   Precision  F1_score Model_name  Accuracy Dataset    Recall Extraction_type\n",
       "0   0.275362  0.269504    IForest  0.677116  ToyAdm  0.263889       amplitude\n",
       "0   0.275362  0.269504        LOF  0.677116  ToyAdm  0.263889       amplitude\n",
       "0   0.655172  0.376238      OCSVM  0.802508  ToyAdm  0.263889       amplitude"
      ]
     },
     "execution_count": 15,
     "metadata": {},
     "output_type": "execute_result"
    }
   ],
   "source": [
    "# ToyAdmos_ts\n",
    "pyod_toy_ts = PyOD_classification_report(\n",
    "    X_train_toy_ts,\n",
    "    X_test_toy_ts,\n",
    "    y_train_toy_ts,\n",
    "    y_test_toy_ts,\n",
    "    dataset=\"ToyAdm\",\n",
    "    extraction_type=\"amplitude\",\n",
    "    contamination=contamination_toy,\n",
    ")\n",
    "pyod_toy_ts"
   ]
  },
  {
   "cell_type": "markdown",
   "id": "c749ea5a",
   "metadata": {},
   "source": [
    "## aggregate_MFCC"
   ]
  },
  {
   "cell_type": "code",
   "execution_count": 16,
   "id": "02e441e3",
   "metadata": {
    "ExecuteTime": {
     "end_time": "2022-10-05T23:21:31.354228Z",
     "start_time": "2022-10-05T23:19:00.388662Z"
    }
   },
   "outputs": [
    {
     "name": "stderr",
     "output_type": "stream",
     "text": [
      "100%|██████████████████████████████████████████████████████████████████████████████| 1004/1004 [02:05<00:00,  8.00it/s]\n",
      "100%|████████████████████████████████████████████████████████████████████████████████| 204/204 [00:25<00:00,  8.04it/s]\n"
     ]
    }
   ],
   "source": [
    "# MIMII dataset  with aggregate_MFCC features\n",
    "dataset_train_mimii_mfcc = Mimii_due(\n",
    "    target_dir, section_name, dir_name_train, extraction_type=\"aggregate_MFCC\"\n",
    ")\n",
    "dataset_test_mimii_mfcc = Mimii_due(\n",
    "    target_dir, section_name, dir_name_test, extraction_type=\"aggregate_MFCC\"\n",
    ")"
   ]
  },
  {
   "cell_type": "code",
   "execution_count": 17,
   "id": "28b9c8c3",
   "metadata": {
    "ExecuteTime": {
     "end_time": "2022-10-05T23:21:31.375602Z",
     "start_time": "2022-10-05T23:21:31.354332Z"
    }
   },
   "outputs": [
    {
     "data": {
      "text/plain": [
       "((1004, 165), (204, 165), (1004,), (204,))"
      ]
     },
     "execution_count": 17,
     "metadata": {},
     "output_type": "execute_result"
    }
   ],
   "source": [
    "# MIMII train - test\n",
    "X_train_mimii_mfcc, y_train_mimii_mfcc = (\n",
    "    dataset_train_mimii_mfcc.data,\n",
    "    dataset_train_mimii_mfcc.labels,\n",
    ")\n",
    "X_test_mimii_mfcc, y_test_mimii_mfcc = (\n",
    "    dataset_test_mimii_mfcc.data,\n",
    "    dataset_test_mimii_mfcc.labels,\n",
    ")\n",
    "X_train_mimii_mfcc.shape, X_test_mimii_mfcc.shape, y_train_mimii_mfcc.shape, y_test_mimii_mfcc.shape"
   ]
  },
  {
   "cell_type": "code",
   "execution_count": 18,
   "id": "1f300f82",
   "metadata": {
    "ExecuteTime": {
     "end_time": "2022-10-05T23:39:33.360165Z",
     "start_time": "2022-10-05T23:21:31.375602Z"
    }
   },
   "outputs": [
    {
     "name": "stderr",
     "output_type": "stream",
     "text": [
      "100%|██████████████████████████████████████████████████████████████████████████████| 3545/3545 [18:01<00:00,  3.28it/s]\n"
     ]
    }
   ],
   "source": [
    "# ToyAdm dataset with aggregate_MFCC features\n",
    "dataset_toy_mfcc = Toyadmos(\n",
    "    target_dir_toyadm,\n",
    "    dir_name_toyadm_normal,\n",
    "    dir_name_toyadm_anomaly,\n",
    "    extraction_type=\"aggregate_MFCC\",\n",
    ")"
   ]
  },
  {
   "cell_type": "code",
   "execution_count": 19,
   "id": "a8f99ed4",
   "metadata": {
    "ExecuteTime": {
     "end_time": "2022-10-05T23:39:33.391753Z",
     "start_time": "2022-10-05T23:39:33.360165Z"
    }
   },
   "outputs": [
    {
     "data": {
      "text/plain": [
       "((2871, 165), (319, 165), (355, 165), (2871,), (319,), (355,))"
      ]
     },
     "execution_count": 19,
     "metadata": {},
     "output_type": "execute_result"
    }
   ],
   "source": [
    "# Train - test - val stratified split\n",
    "(\n",
    "    X_train_toy_mfcc,\n",
    "    X_test_toy_mfcc,\n",
    "    X_val_toy_mfcc,\n",
    "    y_train_toy_mfcc,\n",
    "    y_test_toy_mfcc,\n",
    "    y_val_toy_mfcc,\n",
    ") = preproc.mix_data([dataset_toy_mfcc.data], [dataset_toy_mfcc.labels])\n",
    "X_train_toy_mfcc.shape, X_test_toy_mfcc.shape, X_val_toy_mfcc.shape, y_train_toy_mfcc.shape, y_test_toy_mfcc.shape, y_val_toy_mfcc.shape"
   ]
  },
  {
   "cell_type": "code",
   "execution_count": 20,
   "id": "840ae4f9",
   "metadata": {
    "ExecuteTime": {
     "end_time": "2022-10-05T23:39:33.955616Z",
     "start_time": "2022-10-05T23:39:33.392258Z"
    },
    "code_folding": []
   },
   "outputs": [
    {
     "data": {
      "text/html": [
       "<div>\n",
       "<style scoped>\n",
       "    .dataframe tbody tr th:only-of-type {\n",
       "        vertical-align: middle;\n",
       "    }\n",
       "\n",
       "    .dataframe tbody tr th {\n",
       "        vertical-align: top;\n",
       "    }\n",
       "\n",
       "    .dataframe thead th {\n",
       "        text-align: right;\n",
       "    }\n",
       "</style>\n",
       "<table border=\"1\" class=\"dataframe\">\n",
       "  <thead>\n",
       "    <tr style=\"text-align: right;\">\n",
       "      <th></th>\n",
       "      <th>Precision</th>\n",
       "      <th>F1_score</th>\n",
       "      <th>Model_name</th>\n",
       "      <th>Accuracy</th>\n",
       "      <th>Dataset</th>\n",
       "      <th>Recall</th>\n",
       "      <th>Extraction_type</th>\n",
       "    </tr>\n",
       "  </thead>\n",
       "  <tbody>\n",
       "    <tr>\n",
       "      <th>0</th>\n",
       "      <td>0.639535</td>\n",
       "      <td>0.567010</td>\n",
       "      <td>IForest</td>\n",
       "      <td>0.588235</td>\n",
       "      <td>MIMII_DUE</td>\n",
       "      <td>0.509259</td>\n",
       "      <td>aggregate_MFCC</td>\n",
       "    </tr>\n",
       "    <tr>\n",
       "      <th>0</th>\n",
       "      <td>0.663717</td>\n",
       "      <td>0.678733</td>\n",
       "      <td>LOF</td>\n",
       "      <td>0.651961</td>\n",
       "      <td>MIMII_DUE</td>\n",
       "      <td>0.694444</td>\n",
       "      <td>aggregate_MFCC</td>\n",
       "    </tr>\n",
       "    <tr>\n",
       "      <th>0</th>\n",
       "      <td>0.504274</td>\n",
       "      <td>0.524444</td>\n",
       "      <td>KNN</td>\n",
       "      <td>0.475490</td>\n",
       "      <td>MIMII_DUE</td>\n",
       "      <td>0.546296</td>\n",
       "      <td>aggregate_MFCC</td>\n",
       "    </tr>\n",
       "    <tr>\n",
       "      <th>0</th>\n",
       "      <td>0.680851</td>\n",
       "      <td>0.771084</td>\n",
       "      <td>GMM</td>\n",
       "      <td>0.720588</td>\n",
       "      <td>MIMII_DUE</td>\n",
       "      <td>0.888889</td>\n",
       "      <td>aggregate_MFCC</td>\n",
       "    </tr>\n",
       "    <tr>\n",
       "      <th>0</th>\n",
       "      <td>0.529412</td>\n",
       "      <td>0.692308</td>\n",
       "      <td>OCSVM</td>\n",
       "      <td>0.529412</td>\n",
       "      <td>MIMII_DUE</td>\n",
       "      <td>1.000000</td>\n",
       "      <td>aggregate_MFCC</td>\n",
       "    </tr>\n",
       "  </tbody>\n",
       "</table>\n",
       "</div>"
      ],
      "text/plain": [
       "   Precision  F1_score Model_name  Accuracy    Dataset    Recall  \\\n",
       "0   0.639535  0.567010    IForest  0.588235  MIMII_DUE  0.509259   \n",
       "0   0.663717  0.678733        LOF  0.651961  MIMII_DUE  0.694444   \n",
       "0   0.504274  0.524444        KNN  0.475490  MIMII_DUE  0.546296   \n",
       "0   0.680851  0.771084        GMM  0.720588  MIMII_DUE  0.888889   \n",
       "0   0.529412  0.692308      OCSVM  0.529412  MIMII_DUE  1.000000   \n",
       "\n",
       "  Extraction_type  \n",
       "0  aggregate_MFCC  \n",
       "0  aggregate_MFCC  \n",
       "0  aggregate_MFCC  \n",
       "0  aggregate_MFCC  \n",
       "0  aggregate_MFCC  "
      ]
     },
     "execution_count": 20,
     "metadata": {},
     "output_type": "execute_result"
    }
   ],
   "source": [
    "# MIMII_DUE_mfcc\n",
    "pyod_mimii_mfcc = PyOD_classification_report(\n",
    "    X_train_mimii_mfcc,\n",
    "    X_test_mimii_mfcc,\n",
    "    y_train_mimii_mfcc,\n",
    "    y_test_mimii_mfcc,\n",
    "    dataset=\"MIMII_DUE\",\n",
    "    extraction_type=\"aggregate_MFCC\",\n",
    "    contamination=contamination_mimii,\n",
    ")\n",
    "pyod_mimii_mfcc"
   ]
  },
  {
   "cell_type": "code",
   "execution_count": 21,
   "id": "b0b9bae2",
   "metadata": {
    "ExecuteTime": {
     "end_time": "2022-10-05T23:39:36.634760Z",
     "start_time": "2022-10-05T23:39:33.956619Z"
    }
   },
   "outputs": [
    {
     "data": {
      "text/html": [
       "<div>\n",
       "<style scoped>\n",
       "    .dataframe tbody tr th:only-of-type {\n",
       "        vertical-align: middle;\n",
       "    }\n",
       "\n",
       "    .dataframe tbody tr th {\n",
       "        vertical-align: top;\n",
       "    }\n",
       "\n",
       "    .dataframe thead th {\n",
       "        text-align: right;\n",
       "    }\n",
       "</style>\n",
       "<table border=\"1\" class=\"dataframe\">\n",
       "  <thead>\n",
       "    <tr style=\"text-align: right;\">\n",
       "      <th></th>\n",
       "      <th>Precision</th>\n",
       "      <th>F1_score</th>\n",
       "      <th>Model_name</th>\n",
       "      <th>Accuracy</th>\n",
       "      <th>Dataset</th>\n",
       "      <th>Recall</th>\n",
       "      <th>Extraction_type</th>\n",
       "    </tr>\n",
       "  </thead>\n",
       "  <tbody>\n",
       "    <tr>\n",
       "      <th>0</th>\n",
       "      <td>0.736842</td>\n",
       "      <td>0.756757</td>\n",
       "      <td>IForest</td>\n",
       "      <td>0.887147</td>\n",
       "      <td>ToyAdm</td>\n",
       "      <td>0.777778</td>\n",
       "      <td>aggregate_MFCC</td>\n",
       "    </tr>\n",
       "    <tr>\n",
       "      <th>0</th>\n",
       "      <td>0.437500</td>\n",
       "      <td>0.460526</td>\n",
       "      <td>LOF</td>\n",
       "      <td>0.742947</td>\n",
       "      <td>ToyAdm</td>\n",
       "      <td>0.486111</td>\n",
       "      <td>aggregate_MFCC</td>\n",
       "    </tr>\n",
       "    <tr>\n",
       "      <th>0</th>\n",
       "      <td>0.612500</td>\n",
       "      <td>0.644737</td>\n",
       "      <td>KNN</td>\n",
       "      <td>0.830721</td>\n",
       "      <td>ToyAdm</td>\n",
       "      <td>0.680556</td>\n",
       "      <td>aggregate_MFCC</td>\n",
       "    </tr>\n",
       "    <tr>\n",
       "      <th>0</th>\n",
       "      <td>0.833333</td>\n",
       "      <td>0.866667</td>\n",
       "      <td>GMM</td>\n",
       "      <td>0.937304</td>\n",
       "      <td>ToyAdm</td>\n",
       "      <td>0.902778</td>\n",
       "      <td>aggregate_MFCC</td>\n",
       "    </tr>\n",
       "    <tr>\n",
       "      <th>0</th>\n",
       "      <td>0.225705</td>\n",
       "      <td>0.368286</td>\n",
       "      <td>OCSVM</td>\n",
       "      <td>0.225705</td>\n",
       "      <td>ToyAdm</td>\n",
       "      <td>1.000000</td>\n",
       "      <td>aggregate_MFCC</td>\n",
       "    </tr>\n",
       "  </tbody>\n",
       "</table>\n",
       "</div>"
      ],
      "text/plain": [
       "   Precision  F1_score Model_name  Accuracy Dataset    Recall Extraction_type\n",
       "0   0.736842  0.756757    IForest  0.887147  ToyAdm  0.777778  aggregate_MFCC\n",
       "0   0.437500  0.460526        LOF  0.742947  ToyAdm  0.486111  aggregate_MFCC\n",
       "0   0.612500  0.644737        KNN  0.830721  ToyAdm  0.680556  aggregate_MFCC\n",
       "0   0.833333  0.866667        GMM  0.937304  ToyAdm  0.902778  aggregate_MFCC\n",
       "0   0.225705  0.368286      OCSVM  0.225705  ToyAdm  1.000000  aggregate_MFCC"
      ]
     },
     "execution_count": 21,
     "metadata": {},
     "output_type": "execute_result"
    }
   ],
   "source": [
    "# ToyAdmos_mfcc\n",
    "pyod_toy_mfcc = PyOD_classification_report(\n",
    "    X_train_toy_mfcc,\n",
    "    X_test_toy_mfcc,\n",
    "    y_train_toy_mfcc,\n",
    "    y_test_toy_mfcc,\n",
    "    dataset=\"ToyAdm\",\n",
    "    extraction_type=\"aggregate_MFCC\",\n",
    "    contamination=contamination_toy,\n",
    ")\n",
    "pyod_toy_mfcc"
   ]
  },
  {
   "cell_type": "code",
   "execution_count": null,
   "id": "4bd9b600",
   "metadata": {},
   "outputs": [],
   "source": []
  },
  {
   "cell_type": "code",
   "execution_count": null,
   "id": "e8c0e681",
   "metadata": {},
   "outputs": [],
   "source": []
  }
 ],
 "metadata": {
  "kernelspec": {
   "display_name": "Python 3 (ipykernel)",
   "language": "python",
   "name": "python3"
  },
  "language_info": {
   "codemirror_mode": {
    "name": "ipython",
    "version": 3
   },
   "file_extension": ".py",
   "mimetype": "text/x-python",
   "name": "python",
   "nbconvert_exporter": "python",
   "pygments_lexer": "ipython3",
   "version": "3.9.12"
  },
  "toc": {
   "base_numbering": 1,
   "nav_menu": {
    "height": "34px",
    "width": "344px"
   },
   "number_sections": true,
   "sideBar": true,
   "skip_h1_title": false,
   "title_cell": "Table of Contents",
   "title_sidebar": "Contents",
   "toc_cell": false,
   "toc_position": {
    "height": "calc(100% - 180px)",
    "left": "10px",
    "top": "150px",
    "width": "196px"
   },
   "toc_section_display": true,
   "toc_window_display": true
  }
 },
 "nbformat": 4,
 "nbformat_minor": 5
}
